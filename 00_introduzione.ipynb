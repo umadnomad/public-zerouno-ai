{
 "cells": [
  {
   "cell_type": "markdown",
   "metadata": {
    "collapsed": true,
    "pycharm": {
     "name": "#%% md\n"
    }
   },
   "source": [
    "> ### it may be that today's large neural networks are slightly conscious\n",
    ">\n",
    "> — Ilya Sutskever (@ilyasut), Chief Scientist at OpenAI, February 9, 2022\n",
    "\n",
    "https://www.futuroprossimo.it/2022/02/intelligenze-artificiali-il-capo-di-openai-stanno-gia-diventando-senzienti/"
   ]
  }
 ],
 "metadata": {
  "kernelspec": {
   "display_name": "Python 3 (ipykernel)",
   "language": "python",
   "name": "python3"
  },
  "language_info": {
   "codemirror_mode": {
    "name": "ipython",
    "version": 3
   },
   "file_extension": ".py",
   "mimetype": "text/x-python",
   "name": "python",
   "nbconvert_exporter": "python",
   "pygments_lexer": "ipython3",
   "version": "3.10.2"
  }
 },
 "nbformat": 4,
 "nbformat_minor": 1
}