{
 "cells": [
  {
   "cell_type": "markdown",
   "metadata": {
    "collapsed": true,
    "pycharm": {
     "name": "#%% md\n"
    }
   },
   "source": [
    "# Risorse: https://openai.com/api/\n",
    "\n",
    "## Funzionalità chiave:\n",
    "- **Completamento:**\n",
    "\n",
    "    Può essere utilizzato per un'ampia varietà di attività. Fornisce un'interfaccia semplice ma potente a tutti i modelli di OpenAI\n",
    "\n",
    "\n",
    "- **Ricerca semantica:**\n",
    "\n",
    "    Consente di eseguire una ricerca semantica su un insieme di documenti\n",
    "\n",
    "\n",
    "- **Messa a punto:**\n",
    "\n",
    "    1) Risultati di qualità superiore rispetto alla progettazione rapida\n",
    "    2) Capacità di allenarsi su più esempi di quanti possano rientrare in un _prompt_ (vedi _amplius infra_)\n",
    "    3) Risparmio di _token_ (vedi _amplius infra_) grazie a _prompt_ più brevi\n",
    "    4) Richieste di latenza inferiore\n",
    "\n",
    "\n",
    "- **Classificazione:**\n",
    "\n",
    "    Offre la possibilità di sfruttare una serie di esempi etichettati senza la messa a punto\n",
    "\n",
    "\n",
    "- **Risposta alle domande:**\n",
    "\n",
    "    Dedicato per la risposta alle domande, utile per le applicazioni che richiedono la generazione di testi ad alta precisione in base a fonti di verità come la documentazione aziendale e le basi di conoscenza"
   ]
  }
 ],
 "metadata": {
  "kernelspec": {
   "display_name": "Python 3 (ipykernel)",
   "language": "python",
   "name": "python3"
  },
  "language_info": {
   "codemirror_mode": {
    "name": "ipython",
    "version": 3
   },
   "file_extension": ".py",
   "mimetype": "text/x-python",
   "name": "python",
   "nbconvert_exporter": "python",
   "pygments_lexer": "ipython3",
   "version": "3.10.2"
  }
 },
 "nbformat": 4,
 "nbformat_minor": 1
}