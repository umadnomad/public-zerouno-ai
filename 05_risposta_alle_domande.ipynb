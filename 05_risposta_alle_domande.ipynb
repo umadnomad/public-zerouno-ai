{
 "cells": [
  {
   "cell_type": "markdown",
   "metadata": {
    "pycharm": {
     "name": "#%% md\n"
    }
   },
   "source": [
    "# Risposta alle domande di produzione\n",
    "### Sorgente di verità"
   ]
  },
  {
   "cell_type": "code",
   "execution_count": null,
   "metadata": {
    "pycharm": {
     "name": "#%%\n"
    }
   },
   "outputs": [],
   "source": [
    "# dipendenze\n",
    "!pip install openai\n",
    "\n",
    "import openai\n",
    "\n",
    "openai.api_key = 'changeme'"
   ]
  },
  {
   "cell_type": "code",
   "execution_count": null,
   "metadata": {
    "pycharm": {
     "name": "#%%\n"
    }
   },
   "outputs": [],
   "source": [
    "import json\n",
    "from pathlib import Path\n",
    "import pandas as pd\n",
    "\n",
    "file = json.loads(Path('risorse/prod/knowledge_base/qav2.jsonl').read_text(encoding='utf-8'))\n",
    "pd.set_option('display.max_colwidth', None)\n",
    "pd.json_normalize(file)"
   ]
  },
  {
   "cell_type": "markdown",
   "metadata": {
    "pycharm": {
     "name": "#%% md\n"
    }
   },
   "source": [
    "### Risposta alla domanda"
   ]
  },
  {
   "cell_type": "code",
   "execution_count": null,
   "metadata": {
    "pycharm": {
     "name": "#%%\n"
    }
   },
   "outputs": [],
   "source": [
    "prompt = input()\n",
    "\n",
    "response = openai.Answer.create(\n",
    "    search_model=\"davinci\",\n",
    "    model=\"davinci\",\n",
    "    question=prompt,\n",
    "    file=\"file-BagA7lLY4glUYnOOE1EcnvKA\",\n",
    "    examples_context=\"Per il pattinaggio libero è richiesto l'utilizzo di una mascherina in particolare, la FFp2, la mascherina chirurgica non è sufficiente. Per pattinare è necessario il green pass rafforzato, il green pass base o il tampone non sono sufficienti\",\n",
    "    examples=[[\"Posso venire con la mascherina FFP2?\",\"Sì.\"],[\"Posso venire con la mascherina chirurgica?\",\"No, serve la mascherina FFp2.\"],[\"Va bene il green pass rafforzato?\",\"Sì, va bene\"]],\n",
    "    max_tokens=250,\n",
    "    stop=[\"\\n\", \"<|endoftext|>\"],\n",
    ")\n",
    "\n",
    "print(response.answers)\n",
    "pd.json_normalize(response['selected_documents'])"
   ]
  },
  {
   "cell_type": "code",
   "execution_count": null,
   "metadata": {},
   "outputs": [],
   "source": []
  },
  {
   "cell_type": "code",
   "execution_count": null,
   "metadata": {},
   "outputs": [],
   "source": []
  }
 ],
 "metadata": {
  "kernelspec": {
   "display_name": "Python 3 (ipykernel)",
   "language": "python",
   "name": "python3"
  },
  "language_info": {
   "codemirror_mode": {
    "name": "ipython",
    "version": 3
   },
   "file_extension": ".py",
   "mimetype": "text/x-python",
   "name": "python",
   "nbconvert_exporter": "python",
   "pygments_lexer": "ipython3",
   "version": "3.10.2"
  }
 },
 "nbformat": 4,
 "nbformat_minor": 1
}
