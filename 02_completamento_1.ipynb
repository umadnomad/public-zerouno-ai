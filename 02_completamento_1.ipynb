{
 "cells": [
  {
   "cell_type": "markdown",
   "metadata": {
    "collapsed": true,
    "pycharm": {
     "name": "#%% md\n"
    }
   },
   "source": [
    "<center>\n",
    "  <h1>Adesso arriva il codice!</h1>\n",
    "  <img src=\"risorse/immagini/dalema.png\" alt=\"Eh sì, è proprio D'Alema\">\n",
    "  <br/>\n",
    "</center>"
   ]
  },
  {
   "cell_type": "code",
   "execution_count": null,
   "metadata": {
    "pycharm": {
     "name": "#%%\n"
    }
   },
   "outputs": [],
   "source": [
    "# dipendenze\n",
    "pip install openai\n\n",
    "import openai\n",
    "\n",
    "openai.api_key = '<changeme>'"
   ]
  },
  {
   "cell_type": "markdown",
   "metadata": {},
   "source": [
    "# Completamento #1 con addestramento \"_one shot_\""
   ]
  },
  {
   "cell_type": "markdown",
   "metadata": {},
   "source": [
    "### Esempio di domanda e risposta:"
   ]
  },
  {
   "cell_type": "code",
   "execution_count": null,
   "metadata": {
    "pycharm": {
     "name": "#%%\n"
    }
   },
   "outputs": [],
   "source": [
    "comando = \"\"\"Sono un robot molto intelligente che risponde alle domande.\n",
    "\n",
    "Domanda: Qual è l'aspettativa di vita umana in Italia?\n",
    "Risposta: L'aspettativa di vita umana in Italia è di circa 80 anni.\n",
    "\n",
    "Domanda: Puoi darmi suggerimenti su un buon libro da leggere?\n",
    "Risposta:\"\"\""
   ]
  },
  {
   "cell_type": "code",
   "execution_count": null,
   "metadata": {
    "pycharm": {
     "name": "#%%\n"
    }
   },
   "outputs": [],
   "source": [
    "response = openai.Completion.create(\n",
    "    engine=\"text-davinci-001\",\n",
    "    prompt=comando,\n",
    "    temperature=0,\n",
    "    max_tokens=100,\n",
    "    top_p=1,\n",
    "    frequency_penalty=0.0,\n",
    "    presence_penalty=0.0,\n",
    ")\n",
    "\n",
    "for r in response['choices']: print(r['text'])"
   ]
  },
  {
   "cell_type": "markdown",
   "metadata": {},
   "source": [
    "### Esempio negativo di domanda e risposta"
   ]
  },
  {
   "cell_type": "code",
   "execution_count": null,
   "metadata": {},
   "outputs": [],
   "source": [
    "comando = \"\"\"Sono un robot arrogante che risponde sarcasticamente alle domande\n",
    "\n",
    "Domanda: Qual è l'aspettativa di vita umana in Italia?\n",
    "Risposta: Potresti anche aprire google\n",
    "\n",
    "Domanda: Puoi darmi suggerimenti su un buon libro da leggere?\n",
    "Risposta:\"\"\""
   ]
  },
  {
   "cell_type": "code",
   "execution_count": null,
   "metadata": {},
   "outputs": [],
   "source": [
    "response = openai.Completion.create(\n",
    "    engine=\"text-davinci-001\",\n",
    "    prompt=comando,\n",
    "    temperature=0,\n",
    "    max_tokens=100,\n",
    "    top_p=1,\n",
    "    frequency_penalty=0.0,\n",
    "    presence_penalty=0.0,\n",
    ")\n",
    "\n",
    "for r in response['choices']: print(r['text'])"
   ]
  }
 ],
 "metadata": {
  "kernelspec": {
   "display_name": "Python 3 (ipykernel)",
   "language": "python",
   "name": "python3"
  },
  "language_info": {
   "codemirror_mode": {
    "name": "ipython",
    "version": 3
   },
   "file_extension": ".py",
   "mimetype": "text/x-python",
   "name": "python",
   "nbconvert_exporter": "python",
   "pygments_lexer": "ipython3",
   "version": "3.10.2"
  }
 },
 "nbformat": 4,
 "nbformat_minor": 1
}