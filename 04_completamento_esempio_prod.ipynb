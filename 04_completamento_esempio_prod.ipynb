{
 "cells": [
  {
   "cell_type": "markdown",
   "source": [
    "# Parsing di produzione"
   ],
   "metadata": {
    "collapsed": false,
    "pycharm": {
     "name": "#%% md\n"
    }
   }
  },
  {
   "cell_type": "code",
   "execution_count": null,
   "outputs": [],
   "source": [
    "# dipenzenze #1\n",
    "pip install openai\n\n",
    "import openai\n",
    "\n",
    "openai.api_key = 'changeme'"
   ],
   "metadata": {
    "collapsed": false,
    "pycharm": {
     "name": "#%%\n"
    }
   }
  },
  {
   "cell_type": "code",
   "execution_count": null,
   "metadata": {
    "pycharm": {
     "name": "#%%\n"
    }
   },
   "outputs": [],
   "source": [
    "# dipendenze #2\n",
    "import os;\n",
    "from pathlib import Path\n",
    "import json;\n",
    "\n",
    "cartella = 'risorse/prod/prompts'\n",
    "file_dict = {nome_file : os.path.join(cartella, nome_file) for nome_file in os.listdir(cartella)}\n",
    "def contenuto_del_file(key) :\n",
    "    return Path(file_dict.get(key)).read_text(encoding='utf-8')\n",
    "\n",
    "dati_validazione = list(json.loads(contenuto_del_file('validation.json')))\n",
    "def dati_validazione_id(key) :\n",
    "    return dati_validazione[key]['msg']\n",
    "\n",
    "indice = 0"
   ]
  },
  {
   "cell_type": "markdown",
   "metadata": {
    "pycharm": {
     "name": "#%% md\n"
    }
   },
   "source": [
    "## Messaggi utente INPUT"
   ]
  },
  {
   "cell_type": "code",
   "execution_count": null,
   "metadata": {
    "pycharm": {
     "name": "#%%\n"
    }
   },
   "outputs": [],
   "source": [
    "messaggio_attuale = dati_validazione_id(indice)\n",
    "print(messaggio_attuale); indice += 1"
   ]
  },
  {
   "cell_type": "markdown",
   "metadata": {
    "pycharm": {
     "name": "#%% md\n"
    }
   },
   "source": [
    "### Estrazione data_ora OUTPUT"
   ]
  },
  {
   "cell_type": "code",
   "execution_count": null,
   "metadata": {
    "pycharm": {
     "name": "#%%\n"
    }
   },
   "outputs": [],
   "source": [
    "response = openai.Completion.create(\n",
    "    engine=\"text-davinci-001\",\n",
    "    prompt=''.join(contenuto_del_file('booking_get_date_time.txt') + messaggio_attuale + '\\n###\\noutput:'),\n",
    "    temperature=0,\n",
    "    max_tokens=100,\n",
    "    top_p=1,\n",
    "    frequency_penalty=0.0,\n",
    "    presence_penalty=0.0,\n",
    ")\n",
    "\n",
    "for r in response['choices']: print(r['text'])"
   ]
  },
  {
   "cell_type": "markdown",
   "metadata": {
    "pycharm": {
     "name": "#%% md\n"
    }
   },
   "source": [
    "### Estrazione nomi OUTPUT"
   ]
  },
  {
   "cell_type": "code",
   "execution_count": null,
   "metadata": {
    "pycharm": {
     "name": "#%%\n"
    }
   },
   "outputs": [],
   "source": [
    "response = openai.Completion.create(\n",
    "    engine=\"text-davinci-001\",\n",
    "    prompt=''.join(contenuto_del_file('booking_get_names.txt') + messaggio_attuale + '\\n###\\noutput:'),\n",
    "    temperature=0,\n",
    "    max_tokens=100,\n",
    "    top_p=1,\n",
    "    frequency_penalty=0.0,\n",
    "    presence_penalty=0.0,\n",
    ")\n",
    "\n",
    "for r in response['choices']: print(r['text'])"
   ]
  },
  {
   "cell_type": "markdown",
   "metadata": {
    "pycharm": {
     "name": "#%% md\n"
    }
   },
   "source": [
    "### Estrazione quantit� prenotazione"
   ]
  },
  {
   "cell_type": "code",
   "execution_count": null,
   "metadata": {
    "pycharm": {
     "name": "#%%\n"
    }
   },
   "outputs": [],
   "source": [
    "response = openai.Completion.create(\n",
    "    engine=\"text-davinci-001\",\n",
    "    prompt=''.join(contenuto_del_file('booking_get_people.txt') + messaggio_attuale + '\\n###\\noutput:'),\n",
    "    temperature=0,\n",
    "    max_tokens=100,\n",
    "    top_p=1,\n",
    "    frequency_penalty=0.0,\n",
    "    presence_penalty=0.0,\n",
    ")\n",
    "\n",
    "for r in response['choices']: print(r['text'])"
   ]
  },
  {
   "cell_type": "markdown",
   "metadata": {
    "pycharm": {
     "name": "#%% md\n"
    }
   },
   "source": [
    "### Estrazione domande"
   ]
  },
  {
   "cell_type": "code",
   "execution_count": null,
   "metadata": {
    "pycharm": {
     "name": "#%%\n"
    }
   },
   "outputs": [],
   "source": [
    "response = openai.Completion.create(\n",
    "    engine=\"text-davinci-001\",\n",
    "    prompt=''.join(contenuto_del_file('booking_get_questions.txt') + messaggio_attuale + '\\n###\\noutput:'),\n",
    "    temperature=0,\n",
    "    max_tokens=100,\n",
    "    top_p=1,\n",
    "    frequency_penalty=0.0,\n",
    "    presence_penalty=0.0,\n",
    ")\n",
    "\n",
    "for r in response['choices']: print(r['text'])"
   ]
  }
 ],
 "metadata": {
  "kernelspec": {
   "display_name": "Python 3 (ipykernel)",
   "language": "python",
   "name": "python3"
  },
  "language_info": {
   "codemirror_mode": {
    "name": "ipython",
    "version": 3
   },
   "file_extension": ".py",
   "mimetype": "text/x-python",
   "name": "python",
   "nbconvert_exporter": "python",
   "pygments_lexer": "ipython3",
   "version": "3.10.2"
  }
 },
 "nbformat": 4,
 "nbformat_minor": 1
}