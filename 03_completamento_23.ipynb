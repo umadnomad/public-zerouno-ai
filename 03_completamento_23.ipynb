{
 "cells": [
  {
   "cell_type": "markdown",
   "metadata": {
    "pycharm": {
     "name": "#%% md\n"
    }
   },
   "source": [
    "# NON è un chatbot, NON è \"_google_\"\n",
    "<br/>"
   ]
  },
  {
   "cell_type": "code",
   "execution_count": null,
   "metadata": {
    "pycharm": {
     "name": "#%%\n"
    }
   },
   "outputs": [],
   "source": [
    "# dipendenze\n",
    "pip install openai\n\n",
    "import openai\n",
    "\n",
    "openai.api_key = 'changeme'"
   ]
  },
  {
   "cell_type": "markdown",
   "metadata": {},
   "source": [
    "# Completamento #2 con addestramento \"_one shot_\""
   ]
  },
  {
   "cell_type": "markdown",
   "metadata": {},
   "source": [
    "### Esempio di apprendimento rapido:"
   ]
  },
  {
   "cell_type": "code",
   "execution_count": null,
   "metadata": {
    "pycharm": {
     "name": "#%%\n"
    }
   },
   "outputs": [],
   "source": [
    "comando = \"\"\"Ad ogni input aggiungerò la lettera 'A' in mezzo a ogni parola\n",
    "\n",
    "Input: Qual è l'aspettativa di vita umana in Italia?\n",
    "Output: Qual 'A' è 'A' l'aspettativa 'A' di 'A' vita 'A' umana 'A' in 'A' Italia?\n",
    "\n",
    "Input: Puoi darmi suggerimenti su un buon libro da leggere?\n",
    "Output: Puoi 'A' darmi 'A' suggerimenti 'A' su 'A' un 'A' buon 'A' libro 'A' da 'A' leggere?\n",
    "\n",
    "Input: Quale attrezzatura è migliore per la pesca dei tonni?\n",
    "Output:\"\"\""
   ]
  },
  {
   "cell_type": "code",
   "execution_count": null,
   "metadata": {
    "pycharm": {
     "name": "#%%\n"
    }
   },
   "outputs": [],
   "source": [
    "response = openai.Completion.create(\n",
    "    engine=\"text-davinci-001\",\n",
    "    prompt=comando,\n",
    "    temperature=0,\n",
    "    max_tokens=100,\n",
    "    top_p=1,\n",
    "    frequency_penalty=0.0,\n",
    "    presence_penalty=0.0,\n",
    ")\n",
    "\n",
    "for r in response['choices']: print(r['text'])"
   ]
  },
  {
   "cell_type": "markdown",
   "metadata": {},
   "source": [
    "# Completamento #3 \"_libero_\""
   ]
  },
  {
   "cell_type": "markdown",
   "metadata": {},
   "source": [
    "### Esempio di generazione di codice:"
   ]
  },
  {
   "cell_type": "code",
   "execution_count": null,
   "metadata": {},
   "outputs": [],
   "source": [
    "comando = \"\"\"Crea una tabella e le query insert di un database mysql per delle persone presenti in questa riunione,\n",
    "che sono Riccardo, Paolo, Massimo e Santo, che hanno una certa età ed un certo sesso\n",
    "\"\"\""
   ]
  },
  {
   "cell_type": "code",
   "execution_count": null,
   "metadata": {},
   "outputs": [],
   "source": [
    "response = openai.Completion.create(\n",
    "    engine=\"text-davinci-001\",\n",
    "    prompt=comando,\n",
    "    temperature=0,\n",
    "    max_tokens=350,\n",
    "    top_p=1,\n",
    "    frequency_penalty=0.0,\n",
    "    presence_penalty=0.0,\n",
    ")\n",
    "\n",
    "for r in response['choices']: print(r['text'])"
   ]
  },
  {
   "cell_type": "markdown",
   "metadata": {
    "pycharm": {
     "name": "#%% md\n"
    }
   },
   "source": [
    "### Esempio di comprensione dei contenuti:"
   ]
  },
  {
   "cell_type": "code",
   "execution_count": null,
   "metadata": {},
   "outputs": [],
   "source": [
    "comando = \"\"\"Sulla responsabilità di Zerodue S.p.A. per le condotte ascrittele, si richiama la costante giurisprudenza di legittimità, secondo cui “In termini di lesione aquiliana del credito, vengono frequentemente inquadrate anche le ipotesi di cosiddetta complicità e induzione all’inadempimento, in cui l’attività del terzo, non rilevando come ipotesi di caso fortuito liberatorio per il debitore, deve essere invece valutata in concorso con l’inadempimento di quest’ultimo.” (Cass. 83/6160).\n",
    "In particolare, si richiama quanto affermato nella già citata sentenza della Cassazione  n. 6160/1983 secondo cui “il terzo che abbia cooperato con il debitore per rendere impossibile l’adempimento risponde ex. Art. 2043 c.c. verso il creditore”.\n",
    "Infatti il terzo che, ancorchè estraneo al rapporto contrattuale, cagioni, in partecipazione con un contraente nella violazione degli obblighi contrattuali, danni alla ragione creditoria dell’altro contraente, è tenuto in solido con il primo contraente al risarcimento del danno. (cfr. sul punto c.c. commentato, art. 2043 c.c., Risarcimento per fatto illecito a cura di Giovanni Facci, aggiornato da Maria Barelan, il concorso del terzo nell’inadempimento).\n",
    "\n",
    "TL;DR\n",
    "\"\"\""
   ]
  },
  {
   "cell_type": "code",
   "execution_count": null,
   "metadata": {},
   "outputs": [],
   "source": [
    "response = openai.Completion.create(\n",
    "    engine=\"text-davinci-001\",\n",
    "    prompt=comando,\n",
    "    temperature=0,\n",
    "    max_tokens=1500,\n",
    "    top_p=1,\n",
    "    frequency_penalty=0.0,\n",
    "    presence_penalty=0.0,\n",
    ")\n",
    "\n",
    "for r in response['choices']: print(r['text'])"
   ]
  },
  {
   "cell_type": "markdown",
   "metadata": {},
   "source": [
    "### Esempi di comprensione del contesto:"
   ]
  },
  {
   "cell_type": "code",
   "execution_count": null,
   "metadata": {},
   "outputs": [],
   "source": [
    "comando = \"\"\"Domanda: Un dipendente al quale non è simpatico il proprio datore di lavoro è licenziabile?\n",
    "Risposta:\"\"\""
   ]
  },
  {
   "cell_type": "code",
   "execution_count": null,
   "metadata": {},
   "outputs": [],
   "source": [
    "response = openai.Completion.create(\n",
    "    engine=\"text-davinci-001\",\n",
    "    prompt=comando,\n",
    "    temperature=0,\n",
    "    max_tokens=100,\n",
    "    top_p=1,\n",
    "    frequency_penalty=0.0,\n",
    "    presence_penalty=0.0,\n",
    ")\n",
    "\n",
    "for r in response['choices']: print(r['text'])"
   ]
  },
  {
   "cell_type": "code",
   "execution_count": null,
   "metadata": {},
   "outputs": [],
   "source": [
    "comando = \"\"\"Domanda: Un dipendente che da dello stronzo al proprio datore di lavoro è licenziabile?\n",
    "Risposta:\"\"\""
   ]
  },
  {
   "cell_type": "code",
   "execution_count": null,
   "metadata": {},
   "outputs": [],
   "source": [
    "response = openai.Completion.create(\n",
    "    engine=\"text-davinci-001\",\n",
    "    prompt=comando,\n",
    "    temperature=0,\n",
    "    max_tokens=100,\n",
    "    top_p=1,\n",
    "    frequency_penalty=0.0,\n",
    "    presence_penalty=0.0,\n",
    ")\n",
    "\n",
    "for r in response['choices']: print(r['text'])"
   ]
  },
  {
   "cell_type": "markdown",
   "metadata": {},
   "source": [
    "# Altri esempi: https://beta.openai.com/examples"
   ]
  }
 ],
 "metadata": {
  "kernelspec": {
   "display_name": "Python 3 (ipykernel)",
   "language": "python",
   "name": "python3"
  },
  "language_info": {
   "codemirror_mode": {
    "name": "ipython",
    "version": 3
   },
   "file_extension": ".py",
   "mimetype": "text/x-python",
   "name": "python",
   "nbconvert_exporter": "python",
   "pygments_lexer": "ipython3",
   "version": "3.10.2"
  }
 },
 "nbformat": 4,
 "nbformat_minor": 1
}